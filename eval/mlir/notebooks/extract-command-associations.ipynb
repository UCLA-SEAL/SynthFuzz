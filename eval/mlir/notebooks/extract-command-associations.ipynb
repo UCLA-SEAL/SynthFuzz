{
 "cells": [
  {
   "cell_type": "code",
   "execution_count": null,
   "metadata": {},
   "outputs": [],
   "source": [
    "import json\n",
    "from pathlib import Path\n",
    "import os\n",
    "import re"
   ]
  },
  {
   "cell_type": "code",
   "execution_count": null,
   "metadata": {},
   "outputs": [],
   "source": [
    "with open(\"/workdir/mlir-seeds/command_mapping.json\", \"r\") as f:\n",
    "    cmd_string_mapping = json.load(f)"
   ]
  },
  {
   "cell_type": "code",
   "execution_count": null,
   "metadata": {},
   "outputs": [],
   "source": [
    "def get_cmd(text):\n",
    "    # for now let's only consider mlir-opt\n",
    "    pattern = r\"^(mlir-opt) (.*?)[|\\n]\"\n",
    "    matches = re.findall(pattern, text)\n",
    "    if len(matches) < 1:\n",
    "        return None\n",
    "    if len(matches) > 1:\n",
    "        #print(text)\n",
    "        #raise ValueError(\"Expected at most one match\")\n",
    "        return None\n",
    "    command, args = matches[0]\n",
    "    return command, args.split()\n",
    "\n",
    "cmd_mapping = dict()\n",
    "for filename, command_strings in cmd_string_mapping.items():\n",
    "    # concatenate command strings\n",
    "    full_string = \"\"\n",
    "    for cmd_str in command_strings:\n",
    "        matches = re.findall(r\"//\\s+RUN:\\s+(\\S.*)\", cmd_str)\n",
    "        if len(matches) < 1:\n",
    "            break\n",
    "        if len(matches) > 1:\n",
    "            raise ValueError(\"Expected at most one match\")\n",
    "        full_string += matches[0]\n",
    "    full_string = full_string.replace(\"\\\\\", \"\")\n",
    "    #if \"mlir-opt\" in full_string:\n",
    "    #    print(full_string)\n",
    "    #    print(\"----\")\n",
    "    try:\n",
    "        cmd_mapping[filename] = get_cmd(full_string)\n",
    "    except:\n",
    "        print(filename)\n",
    "\n",
    "# filter out non mlir-opt commands\n",
    "cmd_mapping = {file: cmdargs for file, cmdargs in cmd_mapping.items() if cmdargs is not None}\n",
    "cmd_mapping"
   ]
  },
  {
   "cell_type": "code",
   "execution_count": null,
   "metadata": {},
   "outputs": [],
   "source": [
    "dialects = [\n",
    "   \"acc\", \"affine\", \"amdgpu\", \"amx\", \"arith\", \"arm_neon\", \"arm_sme\", \"arm_sve\", \"async\", \"bufferization\", \"builtin\", \"cf\", \"complex\", \"dlti\", \"emitc\", \"func\", \"gpu\", \"index\", \"irdl\", \"linalg\", \"llvm\", \"math\", \"memref\", \"mesh\", \"ml_program\", \"nvgpu\", \"nvvm\", \"omp\", \"pdl\", \"pdl_interp\", \"quant\", \"rocdl\", \"scf\", \"shape\", \"sparse_tensor\", \"spirv\", \"tensor\", \"test_dyn\", \"tosa\", \"transform\", \"ub\", \"vector\", \"x86vector\"\n",
    "]"
   ]
  },
  {
   "cell_type": "code",
   "execution_count": null,
   "metadata": {},
   "outputs": [],
   "source": [
    "dialect_associations = dict()\n",
    "for cmd, args in cmd_mapping.values():\n",
    "    for arg in args:\n",
    "        possible_match = re.match(r\"-convert-([a-z]+)-to\", arg)\n",
    "        if possible_match:\n",
    "            dialect = possible_match.group(1)\n",
    "            if dialect not in dialect_associations:\n",
    "                dialect_associations[dialect] = []\n",
    "            if arg not in dialect_associations[dialect]:\n",
    "                dialect_associations[dialect].append(arg)\n",
    "        possible_match = re.match(r\"-([a-z]+)\", arg)\n",
    "        if possible_match:\n",
    "            dialect = possible_match.group(1)\n",
    "            if dialect in dialects:\n",
    "                if dialect not in dialect_associations:\n",
    "                    dialect_associations[dialect] = []\n",
    "                if arg not in dialect_associations[dialect]:\n",
    "                    dialect_associations[dialect].append(arg)\n",
    "with open(\"/workdir/mlir-dialect-associations.json\", \"w\") as f:\n",
    "    json.dump(dialect_associations, f)"
   ]
  },
  {
   "cell_type": "code",
   "execution_count": null,
   "metadata": {},
   "outputs": [],
   "source": []
  }
 ],
 "metadata": {
  "kernelspec": {
   "display_name": "synthfuzz",
   "language": "python",
   "name": "python3"
  },
  "language_info": {
   "codemirror_mode": {
    "name": "ipython",
    "version": 3
   },
   "file_extension": ".py",
   "mimetype": "text/x-python",
   "name": "python",
   "nbconvert_exporter": "python",
   "pygments_lexer": "ipython3",
   "version": "3.12.0"
  }
 },
 "nbformat": 4,
 "nbformat_minor": 2
}
