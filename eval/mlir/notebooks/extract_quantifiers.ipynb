{
 "cells": [
  {
   "cell_type": "code",
   "execution_count": null,
   "metadata": {},
   "outputs": [],
   "source": [
    "import pickle\n",
    "from pathlib import Path\n",
    "from mlirmut.synthfuzz.processor import UnparserRuleNode, UnlexerRuleNode, QuantifierNode, LiteralNode, AlternationNode\n",
    "from mlirmut.synthfuzz.generator import QuantifierSpec, InsertMatchPattern\n",
    "from math import inf"
   ]
  },
  {
   "cell_type": "code",
   "execution_count": null,
   "metadata": {},
   "outputs": [],
   "source": [
    "with Path(\"/synthfuzz/eval/mlir/mlirgen/graph.pkl\").open(\"rb\") as f:\n",
    "    graph = pickle.load(f)\n",
    "graph"
   ]
  },
  {
   "cell_type": "code",
   "execution_count": null,
   "metadata": {},
   "outputs": [],
   "source": [
    "parser_rules = [rule for rule in graph.rules if isinstance(rule, UnparserRuleNode)]\n",
    "print(f\"# parser rules: {len(parser_rules)}\")\n",
    "def is_simple_quantifier(node: QuantifierNode):\n",
    "    return len(node.out_neighbours) == 1 and isinstance(node.out_neighbours[0], UnparserRuleNode)\n",
    "def contains_quantifier(rule):\n",
    "    quantifiers = [node for node in rule.out_neighbours if isinstance(node, QuantifierNode)]\n",
    "    if not quantifiers:\n",
    "        return False\n",
    "    if all(is_simple_quantifier(node) for node in quantifiers):\n",
    "        return True\n",
    "    return False\n",
    "parser_rules_with_quants = [rule for rule in parser_rules if contains_quantifier(rule)]\n",
    "print(f\"# parser rules with simple quantifiers: {len(parser_rules_with_quants)}\")\n",
    "\n",
    "# create a mapping from the rules inside the quantifiers back to the parent rule itself\n",
    "# we need this to filter candidate locations by the parent node during mutation\n",
    "insert_patterns = dict()\n",
    "quantified_nodes = dict()\n",
    "for rule in parser_rules_with_quants:\n",
    "    match_pattern = list()\n",
    "    child_rules = set()\n",
    "    valid_rule = True\n",
    "    for child in rule.out_neighbours:\n",
    "        if isinstance(child, QuantifierNode):\n",
    "            # TODO handle complex quantifier patterns\n",
    "            child_rule: UnparserRuleNode = child.out_neighbours[0]\n",
    "            if not isinstance(child_rule, UnparserRuleNode):\n",
    "                print(rule.name)\n",
    "                raise ValueError(f\"Quantifier pattern expected to contain a rule, but found {type(child_rule)}\")\n",
    "            match_pattern.append(QuantifierSpec(min=child.min, max=child.max if child.max != 'inf' else inf, rule_name=child_rule.name))\n",
    "            child_rules.add(child_rule.name)\n",
    "        elif isinstance(child, UnparserRuleNode):\n",
    "            match_pattern.append(child.name)\n",
    "        elif isinstance(child, UnlexerRuleNode):\n",
    "            match_pattern.append(child.name)\n",
    "        elif isinstance(child, LiteralNode):\n",
    "            match_pattern.append(child.src)\n",
    "        elif isinstance(child, AlternationNode):\n",
    "            # TODO handle alternation nodes\n",
    "            valid_rule = False\n",
    "            break\n",
    "        else:\n",
    "            print(rule.name)\n",
    "            raise ValueError(f\"Unexpected node type: {type(child)}\")\n",
    "    if valid_rule:\n",
    "        insert_patterns[rule.name] = InsertMatchPattern(match_pattern, child_rules)\n",
    "len(insert_patterns), insert_patterns"
   ]
  },
  {
   "cell_type": "code",
   "execution_count": null,
   "metadata": {},
   "outputs": [],
   "source": [
    "with open(\"/synthfuzz/eval/mlir/mlirgen/insert_patterns.pkl\", \"wb\") as f:\n",
    "    pickle.dump(insert_patterns, f)"
   ]
  }
 ],
 "metadata": {
  "kernelspec": {
   "display_name": "synthfuzz",
   "language": "python",
   "name": "python3"
  },
  "language_info": {
   "codemirror_mode": {
    "name": "ipython",
    "version": 3
   },
   "file_extension": ".py",
   "mimetype": "text/x-python",
   "name": "python",
   "nbconvert_exporter": "python",
   "pygments_lexer": "ipython3",
   "version": "3.12.0"
  }
 },
 "nbformat": 4,
 "nbformat_minor": 2
}
